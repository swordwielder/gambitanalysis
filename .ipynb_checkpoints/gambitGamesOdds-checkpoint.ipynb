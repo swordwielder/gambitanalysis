{
 "cells": [
  {
   "cell_type": "code",
   "execution_count": 4,
   "metadata": {},
   "outputs": [
    {
     "data": {
      "text/plain": [
       "9148.936170212774"
      ]
     },
     "execution_count": 4,
     "metadata": {},
     "output_type": "execute_result"
    }
   ],
   "source": [
    "import xlrd\n",
    "from pandas_ods_reader import read_ods\n",
    "\n",
    "path = \"./allgames.ods\"\n",
    "\n",
    "# load a sheet based on its index (1 based)\n",
    "sheet_idx = 1\n",
    "df = read_ods(path, sheet_idx)\n",
    "losses = ['Florida State 1.04', 'Florida 1.04', 'Los Angeles Rams 1.03', 'Manchester City 1.05']\n",
    "\n",
    "# load a sheet based on its name\n",
    "# sheet_name = \"allgames\"\n",
    "# df = read_ods(path, sheet_name)\n",
    "\n",
    "# load a file that does not contain a header row\n",
    "# if no columns are provided, they will be numbered\n",
    "tokens = 10000\n",
    "bets = tokens/47\n",
    "df = read_ods(path, 1, headers=False)\n",
    "t=0\n",
    "spenttokens=0\n",
    "total=0\n",
    "wins=0\n",
    "totalGames=0\n",
    "for i in df:\n",
    "    for j in df[i]:\n",
    "        if j:\n",
    "            if '1.' in j:\n",
    "                totalGames+=1\n",
    "                \n",
    "            if '1.' in j and not any(b in j for b in losses):\n",
    "                index = j.find('1.')\n",
    "#                 print('betting '+str(bets) +' on ')\n",
    "#                 print(j)\n",
    "\n",
    "                total = float(j[index:index+4]) * bets\n",
    "#                 total\n",
    "                t+=total\n",
    "                wins+=1\n",
    "                spenttokens+=bets\n",
    "'spent this much'\n",
    "spenttokens\n"
   ]
  },
  {
   "cell_type": "code",
   "execution_count": null,
   "metadata": {},
   "outputs": [],
   "source": []
  }
 ],
 "metadata": {
  "kernelspec": {
   "display_name": "Python 3",
   "language": "python",
   "name": "python3"
  },
  "language_info": {
   "codemirror_mode": {
    "name": "ipython",
    "version": 3
   },
   "file_extension": ".py",
   "mimetype": "text/x-python",
   "name": "python",
   "nbconvert_exporter": "python",
   "pygments_lexer": "ipython3",
   "version": "3.8.5"
  }
 },
 "nbformat": 4,
 "nbformat_minor": 4
}
