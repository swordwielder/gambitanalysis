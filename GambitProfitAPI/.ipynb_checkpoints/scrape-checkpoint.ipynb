{
 "cells": [
  {
   "cell_type": "code",
   "execution_count": 4,
   "metadata": {},
   "outputs": [],
   "source": [
    "\n",
    "import requests\n",
    "import json\n",
    "import datetime\n",
    "from datetime import timedelta\n",
    "import dateutil.parser\n",
    "import pytz\n",
    "from datetime import datetime\n",
    "\n",
    "\n",
    "my_date = datetime.now()\n",
    "resp = requests.get('https://api.gambitprofit.com/gambit-plays?_sort=PlayDate:DESC')\n",
    "gambitGames = json.loads(resp.content)\n",
    "\n",
    "allCurrentGames = []\n",
    "for game in gambitGames:\n",
    "    if game['PlayDate']>my_date.isoformat()[:-3]+'Z':\n",
    "        game\n",
    "        allCurrentGames.append(game['Team1']['Name']+' vs '+game['Team2']['Name'])\n",
    "        if game['Team1']['Reward']<1.23 or game['Team2']['Reward']<1.23:\n",
    "            reward1=str(game['Team1']['Reward'])\n",
    "            reward2=str(game['Team2']['Reward'])\n",
    "            game['Team1']['Name']\n",
    "            game['Team2']['Name']"
   ]
  },
  {
   "cell_type": "code",
   "execution_count": null,
   "metadata": {},
   "outputs": [],
   "source": []
  },
  {
   "cell_type": "code",
   "execution_count": null,
   "metadata": {},
   "outputs": [],
   "source": []
  }
 ],
 "metadata": {
  "kernelspec": {
   "display_name": "Python 3",
   "language": "python",
   "name": "python3"
  },
  "language_info": {
   "codemirror_mode": {
    "name": "ipython",
    "version": 3
   },
   "file_extension": ".py",
   "mimetype": "text/x-python",
   "name": "python",
   "nbconvert_exporter": "python",
   "pygments_lexer": "ipython3",
   "version": "3.8.5"
  }
 },
 "nbformat": 4,
 "nbformat_minor": 4
}
